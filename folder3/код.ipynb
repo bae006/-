{
 "cells": [
  {
   "cell_type": "code",
   "execution_count": 123,
   "id": "cb23f488",
   "metadata": {},
   "outputs": [],
   "source": [
    "import pandas as pd\n",
    "from scipy import stats\n",
    "import numpy as np\n",
    "import matplotlib.pyplot as plt\n",
    "import statsmodels.api as sm\n",
    "import statsmodels.formula.api as smf\n",
    "from statsmodels.stats.multicomp import pairwise_tukeyhsd"
   ]
  },
  {
   "cell_type": "code",
   "execution_count": 13,
   "id": "83340982",
   "metadata": {},
   "outputs": [
    {
     "name": "stderr",
     "output_type": "stream",
     "text": [
      "C:\\Users\\nev1L\\AppData\\Local\\Temp\\ipykernel_12696\\674740157.py:1: DtypeWarning: Columns (21,57) have mixed types. Specify dtype option on import or set low_memory=False.\n",
      "  survey_df = pd.read_csv(\"2016-FCC-New-Coders-Survey-Data.csv\")\n"
     ]
    },
    {
     "data": {
      "text/html": [
       "<div>\n",
       "<style scoped>\n",
       "    .dataframe tbody tr th:only-of-type {\n",
       "        vertical-align: middle;\n",
       "    }\n",
       "\n",
       "    .dataframe tbody tr th {\n",
       "        vertical-align: top;\n",
       "    }\n",
       "\n",
       "    .dataframe thead th {\n",
       "        text-align: right;\n",
       "    }\n",
       "</style>\n",
       "<table border=\"1\" class=\"dataframe\">\n",
       "  <thead>\n",
       "    <tr style=\"text-align: right;\">\n",
       "      <th></th>\n",
       "      <th>Age</th>\n",
       "      <th>AttendedBootcamp</th>\n",
       "      <th>BootcampFinish</th>\n",
       "      <th>BootcampFullJobAfter</th>\n",
       "      <th>BootcampLoanYesNo</th>\n",
       "      <th>BootcampMonthsAgo</th>\n",
       "      <th>BootcampName</th>\n",
       "      <th>BootcampPostSalary</th>\n",
       "      <th>BootcampRecommend</th>\n",
       "      <th>ChildrenNumber</th>\n",
       "      <th>...</th>\n",
       "      <th>ResourceSoloLearn</th>\n",
       "      <th>ResourceStackOverflow</th>\n",
       "      <th>ResourceTreehouse</th>\n",
       "      <th>ResourceUdacity</th>\n",
       "      <th>ResourceUdemy</th>\n",
       "      <th>ResourceW3Schools</th>\n",
       "      <th>ResourceYouTube</th>\n",
       "      <th>SchoolDegree</th>\n",
       "      <th>SchoolMajor</th>\n",
       "      <th>StudentDebtOwe</th>\n",
       "    </tr>\n",
       "  </thead>\n",
       "  <tbody>\n",
       "    <tr>\n",
       "      <th>0</th>\n",
       "      <td>28.0</td>\n",
       "      <td>0.0</td>\n",
       "      <td>NaN</td>\n",
       "      <td>NaN</td>\n",
       "      <td>NaN</td>\n",
       "      <td>NaN</td>\n",
       "      <td>NaN</td>\n",
       "      <td>NaN</td>\n",
       "      <td>NaN</td>\n",
       "      <td>NaN</td>\n",
       "      <td>...</td>\n",
       "      <td>NaN</td>\n",
       "      <td>NaN</td>\n",
       "      <td>NaN</td>\n",
       "      <td>NaN</td>\n",
       "      <td>NaN</td>\n",
       "      <td>NaN</td>\n",
       "      <td>NaN</td>\n",
       "      <td>some college credit, no degree</td>\n",
       "      <td>NaN</td>\n",
       "      <td>20000.0</td>\n",
       "    </tr>\n",
       "    <tr>\n",
       "      <th>1</th>\n",
       "      <td>22.0</td>\n",
       "      <td>0.0</td>\n",
       "      <td>NaN</td>\n",
       "      <td>NaN</td>\n",
       "      <td>NaN</td>\n",
       "      <td>NaN</td>\n",
       "      <td>NaN</td>\n",
       "      <td>NaN</td>\n",
       "      <td>NaN</td>\n",
       "      <td>NaN</td>\n",
       "      <td>...</td>\n",
       "      <td>NaN</td>\n",
       "      <td>NaN</td>\n",
       "      <td>NaN</td>\n",
       "      <td>NaN</td>\n",
       "      <td>1.0</td>\n",
       "      <td>NaN</td>\n",
       "      <td>NaN</td>\n",
       "      <td>some college credit, no degree</td>\n",
       "      <td>NaN</td>\n",
       "      <td>NaN</td>\n",
       "    </tr>\n",
       "    <tr>\n",
       "      <th>2</th>\n",
       "      <td>19.0</td>\n",
       "      <td>0.0</td>\n",
       "      <td>NaN</td>\n",
       "      <td>NaN</td>\n",
       "      <td>NaN</td>\n",
       "      <td>NaN</td>\n",
       "      <td>NaN</td>\n",
       "      <td>NaN</td>\n",
       "      <td>NaN</td>\n",
       "      <td>NaN</td>\n",
       "      <td>...</td>\n",
       "      <td>NaN</td>\n",
       "      <td>NaN</td>\n",
       "      <td>NaN</td>\n",
       "      <td>NaN</td>\n",
       "      <td>NaN</td>\n",
       "      <td>NaN</td>\n",
       "      <td>NaN</td>\n",
       "      <td>high school diploma or equivalent (GED)</td>\n",
       "      <td>NaN</td>\n",
       "      <td>NaN</td>\n",
       "    </tr>\n",
       "    <tr>\n",
       "      <th>3</th>\n",
       "      <td>26.0</td>\n",
       "      <td>0.0</td>\n",
       "      <td>NaN</td>\n",
       "      <td>NaN</td>\n",
       "      <td>NaN</td>\n",
       "      <td>NaN</td>\n",
       "      <td>NaN</td>\n",
       "      <td>NaN</td>\n",
       "      <td>NaN</td>\n",
       "      <td>NaN</td>\n",
       "      <td>...</td>\n",
       "      <td>NaN</td>\n",
       "      <td>NaN</td>\n",
       "      <td>NaN</td>\n",
       "      <td>NaN</td>\n",
       "      <td>NaN</td>\n",
       "      <td>NaN</td>\n",
       "      <td>NaN</td>\n",
       "      <td>bachelor's degree</td>\n",
       "      <td>Cinematography And Film</td>\n",
       "      <td>7000.0</td>\n",
       "    </tr>\n",
       "    <tr>\n",
       "      <th>4</th>\n",
       "      <td>20.0</td>\n",
       "      <td>0.0</td>\n",
       "      <td>NaN</td>\n",
       "      <td>NaN</td>\n",
       "      <td>NaN</td>\n",
       "      <td>NaN</td>\n",
       "      <td>NaN</td>\n",
       "      <td>NaN</td>\n",
       "      <td>NaN</td>\n",
       "      <td>NaN</td>\n",
       "      <td>...</td>\n",
       "      <td>NaN</td>\n",
       "      <td>NaN</td>\n",
       "      <td>NaN</td>\n",
       "      <td>NaN</td>\n",
       "      <td>NaN</td>\n",
       "      <td>NaN</td>\n",
       "      <td>NaN</td>\n",
       "      <td>some college credit, no degree</td>\n",
       "      <td>NaN</td>\n",
       "      <td>NaN</td>\n",
       "    </tr>\n",
       "    <tr>\n",
       "      <th>...</th>\n",
       "      <td>...</td>\n",
       "      <td>...</td>\n",
       "      <td>...</td>\n",
       "      <td>...</td>\n",
       "      <td>...</td>\n",
       "      <td>...</td>\n",
       "      <td>...</td>\n",
       "      <td>...</td>\n",
       "      <td>...</td>\n",
       "      <td>...</td>\n",
       "      <td>...</td>\n",
       "      <td>...</td>\n",
       "      <td>...</td>\n",
       "      <td>...</td>\n",
       "      <td>...</td>\n",
       "      <td>...</td>\n",
       "      <td>...</td>\n",
       "      <td>...</td>\n",
       "      <td>...</td>\n",
       "      <td>...</td>\n",
       "      <td>...</td>\n",
       "    </tr>\n",
       "    <tr>\n",
       "      <th>15615</th>\n",
       "      <td>39.0</td>\n",
       "      <td>0.0</td>\n",
       "      <td>NaN</td>\n",
       "      <td>NaN</td>\n",
       "      <td>NaN</td>\n",
       "      <td>NaN</td>\n",
       "      <td>NaN</td>\n",
       "      <td>NaN</td>\n",
       "      <td>NaN</td>\n",
       "      <td>NaN</td>\n",
       "      <td>...</td>\n",
       "      <td>NaN</td>\n",
       "      <td>NaN</td>\n",
       "      <td>NaN</td>\n",
       "      <td>NaN</td>\n",
       "      <td>1.0</td>\n",
       "      <td>NaN</td>\n",
       "      <td>NaN</td>\n",
       "      <td>bachelor's degree</td>\n",
       "      <td>Chemistry</td>\n",
       "      <td>NaN</td>\n",
       "    </tr>\n",
       "    <tr>\n",
       "      <th>15616</th>\n",
       "      <td>27.0</td>\n",
       "      <td>0.0</td>\n",
       "      <td>NaN</td>\n",
       "      <td>NaN</td>\n",
       "      <td>NaN</td>\n",
       "      <td>NaN</td>\n",
       "      <td>NaN</td>\n",
       "      <td>NaN</td>\n",
       "      <td>NaN</td>\n",
       "      <td>NaN</td>\n",
       "      <td>...</td>\n",
       "      <td>NaN</td>\n",
       "      <td>NaN</td>\n",
       "      <td>1.0</td>\n",
       "      <td>NaN</td>\n",
       "      <td>NaN</td>\n",
       "      <td>NaN</td>\n",
       "      <td>NaN</td>\n",
       "      <td>bachelor's degree</td>\n",
       "      <td>Electrical Engineering</td>\n",
       "      <td>NaN</td>\n",
       "    </tr>\n",
       "    <tr>\n",
       "      <th>15617</th>\n",
       "      <td>37.0</td>\n",
       "      <td>0.0</td>\n",
       "      <td>NaN</td>\n",
       "      <td>NaN</td>\n",
       "      <td>NaN</td>\n",
       "      <td>NaN</td>\n",
       "      <td>NaN</td>\n",
       "      <td>NaN</td>\n",
       "      <td>NaN</td>\n",
       "      <td>NaN</td>\n",
       "      <td>...</td>\n",
       "      <td>NaN</td>\n",
       "      <td>NaN</td>\n",
       "      <td>NaN</td>\n",
       "      <td>NaN</td>\n",
       "      <td>NaN</td>\n",
       "      <td>NaN</td>\n",
       "      <td>NaN</td>\n",
       "      <td>bachelor's degree</td>\n",
       "      <td>Chemistry</td>\n",
       "      <td>NaN</td>\n",
       "    </tr>\n",
       "    <tr>\n",
       "      <th>15618</th>\n",
       "      <td>26.0</td>\n",
       "      <td>0.0</td>\n",
       "      <td>NaN</td>\n",
       "      <td>NaN</td>\n",
       "      <td>NaN</td>\n",
       "      <td>NaN</td>\n",
       "      <td>NaN</td>\n",
       "      <td>NaN</td>\n",
       "      <td>NaN</td>\n",
       "      <td>NaN</td>\n",
       "      <td>...</td>\n",
       "      <td>NaN</td>\n",
       "      <td>NaN</td>\n",
       "      <td>NaN</td>\n",
       "      <td>NaN</td>\n",
       "      <td>1.0</td>\n",
       "      <td>NaN</td>\n",
       "      <td>NaN</td>\n",
       "      <td>master's degree (non-professional)</td>\n",
       "      <td>Math</td>\n",
       "      <td>NaN</td>\n",
       "    </tr>\n",
       "    <tr>\n",
       "      <th>15619</th>\n",
       "      <td>22.0</td>\n",
       "      <td>0.0</td>\n",
       "      <td>NaN</td>\n",
       "      <td>NaN</td>\n",
       "      <td>NaN</td>\n",
       "      <td>NaN</td>\n",
       "      <td>NaN</td>\n",
       "      <td>NaN</td>\n",
       "      <td>NaN</td>\n",
       "      <td>NaN</td>\n",
       "      <td>...</td>\n",
       "      <td>NaN</td>\n",
       "      <td>NaN</td>\n",
       "      <td>NaN</td>\n",
       "      <td>NaN</td>\n",
       "      <td>NaN</td>\n",
       "      <td>NaN</td>\n",
       "      <td>NaN</td>\n",
       "      <td>bachelor's degree</td>\n",
       "      <td>Graphic Design</td>\n",
       "      <td>40000.0</td>\n",
       "    </tr>\n",
       "  </tbody>\n",
       "</table>\n",
       "<p>15620 rows × 113 columns</p>\n",
       "</div>"
      ],
      "text/plain": [
       "        Age  AttendedBootcamp  BootcampFinish  BootcampFullJobAfter  \\\n",
       "0      28.0               0.0             NaN                   NaN   \n",
       "1      22.0               0.0             NaN                   NaN   \n",
       "2      19.0               0.0             NaN                   NaN   \n",
       "3      26.0               0.0             NaN                   NaN   \n",
       "4      20.0               0.0             NaN                   NaN   \n",
       "...     ...               ...             ...                   ...   \n",
       "15615  39.0               0.0             NaN                   NaN   \n",
       "15616  27.0               0.0             NaN                   NaN   \n",
       "15617  37.0               0.0             NaN                   NaN   \n",
       "15618  26.0               0.0             NaN                   NaN   \n",
       "15619  22.0               0.0             NaN                   NaN   \n",
       "\n",
       "       BootcampLoanYesNo  BootcampMonthsAgo BootcampName  BootcampPostSalary  \\\n",
       "0                    NaN                NaN          NaN                 NaN   \n",
       "1                    NaN                NaN          NaN                 NaN   \n",
       "2                    NaN                NaN          NaN                 NaN   \n",
       "3                    NaN                NaN          NaN                 NaN   \n",
       "4                    NaN                NaN          NaN                 NaN   \n",
       "...                  ...                ...          ...                 ...   \n",
       "15615                NaN                NaN          NaN                 NaN   \n",
       "15616                NaN                NaN          NaN                 NaN   \n",
       "15617                NaN                NaN          NaN                 NaN   \n",
       "15618                NaN                NaN          NaN                 NaN   \n",
       "15619                NaN                NaN          NaN                 NaN   \n",
       "\n",
       "       BootcampRecommend  ChildrenNumber  ... ResourceSoloLearn  \\\n",
       "0                    NaN             NaN  ...               NaN   \n",
       "1                    NaN             NaN  ...               NaN   \n",
       "2                    NaN             NaN  ...               NaN   \n",
       "3                    NaN             NaN  ...               NaN   \n",
       "4                    NaN             NaN  ...               NaN   \n",
       "...                  ...             ...  ...               ...   \n",
       "15615                NaN             NaN  ...               NaN   \n",
       "15616                NaN             NaN  ...               NaN   \n",
       "15617                NaN             NaN  ...               NaN   \n",
       "15618                NaN             NaN  ...               NaN   \n",
       "15619                NaN             NaN  ...               NaN   \n",
       "\n",
       "       ResourceStackOverflow  ResourceTreehouse  ResourceUdacity  \\\n",
       "0                        NaN                NaN              NaN   \n",
       "1                        NaN                NaN              NaN   \n",
       "2                        NaN                NaN              NaN   \n",
       "3                        NaN                NaN              NaN   \n",
       "4                        NaN                NaN              NaN   \n",
       "...                      ...                ...              ...   \n",
       "15615                    NaN                NaN              NaN   \n",
       "15616                    NaN                1.0              NaN   \n",
       "15617                    NaN                NaN              NaN   \n",
       "15618                    NaN                NaN              NaN   \n",
       "15619                    NaN                NaN              NaN   \n",
       "\n",
       "       ResourceUdemy  ResourceW3Schools  ResourceYouTube  \\\n",
       "0                NaN                NaN              NaN   \n",
       "1                1.0                NaN              NaN   \n",
       "2                NaN                NaN              NaN   \n",
       "3                NaN                NaN              NaN   \n",
       "4                NaN                NaN              NaN   \n",
       "...              ...                ...              ...   \n",
       "15615            1.0                NaN              NaN   \n",
       "15616            NaN                NaN              NaN   \n",
       "15617            NaN                NaN              NaN   \n",
       "15618            1.0                NaN              NaN   \n",
       "15619            NaN                NaN              NaN   \n",
       "\n",
       "                                  SchoolDegree              SchoolMajor  \\\n",
       "0               some college credit, no degree                      NaN   \n",
       "1               some college credit, no degree                      NaN   \n",
       "2      high school diploma or equivalent (GED)                      NaN   \n",
       "3                            bachelor's degree  Cinematography And Film   \n",
       "4               some college credit, no degree                      NaN   \n",
       "...                                        ...                      ...   \n",
       "15615                        bachelor's degree                Chemistry   \n",
       "15616                        bachelor's degree   Electrical Engineering   \n",
       "15617                        bachelor's degree                Chemistry   \n",
       "15618       master's degree (non-professional)                     Math   \n",
       "15619                        bachelor's degree           Graphic Design   \n",
       "\n",
       "       StudentDebtOwe  \n",
       "0             20000.0  \n",
       "1                 NaN  \n",
       "2                 NaN  \n",
       "3              7000.0  \n",
       "4                 NaN  \n",
       "...               ...  \n",
       "15615             NaN  \n",
       "15616             NaN  \n",
       "15617             NaN  \n",
       "15618             NaN  \n",
       "15619         40000.0  \n",
       "\n",
       "[15620 rows x 113 columns]"
      ]
     },
     "execution_count": 13,
     "metadata": {},
     "output_type": "execute_result"
    }
   ],
   "source": [
    "survey_df = pd.read_csv(\"2016-FCC-New-Coders-Survey-Data.csv\")\n",
    "survey_df"
   ]
  },
  {
   "cell_type": "code",
   "execution_count": 14,
   "id": "a655240e",
   "metadata": {},
   "outputs": [
    {
     "data": {
      "text/html": [
       "<div>\n",
       "<style scoped>\n",
       "    .dataframe tbody tr th:only-of-type {\n",
       "        vertical-align: middle;\n",
       "    }\n",
       "\n",
       "    .dataframe tbody tr th {\n",
       "        vertical-align: top;\n",
       "    }\n",
       "\n",
       "    .dataframe thead th {\n",
       "        text-align: right;\n",
       "    }\n",
       "</style>\n",
       "<table border=\"1\" class=\"dataframe\">\n",
       "  <thead>\n",
       "    <tr style=\"text-align: right;\">\n",
       "      <th></th>\n",
       "      <th>CityPopulation</th>\n",
       "      <th>EmploymentStatus</th>\n",
       "      <th>Gender</th>\n",
       "      <th>HasDebt</th>\n",
       "      <th>JobPref</th>\n",
       "      <th>JobWherePref</th>\n",
       "      <th>MaritalStatus</th>\n",
       "      <th>Income</th>\n",
       "      <th>SchoolDegree</th>\n",
       "    </tr>\n",
       "  </thead>\n",
       "  <tbody>\n",
       "    <tr>\n",
       "      <th>0</th>\n",
       "      <td>between 100,000 and 1 million</td>\n",
       "      <td>Employed for wages</td>\n",
       "      <td>male</td>\n",
       "      <td>1.0</td>\n",
       "      <td>freelance</td>\n",
       "      <td>NaN</td>\n",
       "      <td>married or domestic partnership</td>\n",
       "      <td>32000.0</td>\n",
       "      <td>some college credit, no degree</td>\n",
       "    </tr>\n",
       "    <tr>\n",
       "      <th>1</th>\n",
       "      <td>between 100,000 and 1 million</td>\n",
       "      <td>Employed for wages</td>\n",
       "      <td>male</td>\n",
       "      <td>0.0</td>\n",
       "      <td>work for a startup</td>\n",
       "      <td>in an office with other developers</td>\n",
       "      <td>NaN</td>\n",
       "      <td>15000.0</td>\n",
       "      <td>some college credit, no degree</td>\n",
       "    </tr>\n",
       "    <tr>\n",
       "      <th>2</th>\n",
       "      <td>more than 1 million</td>\n",
       "      <td>Employed for wages</td>\n",
       "      <td>male</td>\n",
       "      <td>0.0</td>\n",
       "      <td>start your own business</td>\n",
       "      <td>NaN</td>\n",
       "      <td>NaN</td>\n",
       "      <td>48000.0</td>\n",
       "      <td>high school diploma or equivalent (GED)</td>\n",
       "    </tr>\n",
       "    <tr>\n",
       "      <th>3</th>\n",
       "      <td>more than 1 million</td>\n",
       "      <td>Employed for wages</td>\n",
       "      <td>female</td>\n",
       "      <td>1.0</td>\n",
       "      <td>work for a startup</td>\n",
       "      <td>from home</td>\n",
       "      <td>NaN</td>\n",
       "      <td>43000.0</td>\n",
       "      <td>bachelor's degree</td>\n",
       "    </tr>\n",
       "    <tr>\n",
       "      <th>4</th>\n",
       "      <td>between 100,000 and 1 million</td>\n",
       "      <td>Employed for wages</td>\n",
       "      <td>female</td>\n",
       "      <td>1.0</td>\n",
       "      <td>work for a medium-sized company</td>\n",
       "      <td>in an office with other developers</td>\n",
       "      <td>NaN</td>\n",
       "      <td>6000.0</td>\n",
       "      <td>some college credit, no degree</td>\n",
       "    </tr>\n",
       "    <tr>\n",
       "      <th>...</th>\n",
       "      <td>...</td>\n",
       "      <td>...</td>\n",
       "      <td>...</td>\n",
       "      <td>...</td>\n",
       "      <td>...</td>\n",
       "      <td>...</td>\n",
       "      <td>...</td>\n",
       "      <td>...</td>\n",
       "      <td>...</td>\n",
       "    </tr>\n",
       "    <tr>\n",
       "      <th>15615</th>\n",
       "      <td>more than 1 million</td>\n",
       "      <td>Self-employed freelancer</td>\n",
       "      <td>male</td>\n",
       "      <td>1.0</td>\n",
       "      <td>start your own business</td>\n",
       "      <td>NaN</td>\n",
       "      <td>single, never married</td>\n",
       "      <td>10000.0</td>\n",
       "      <td>bachelor's degree</td>\n",
       "    </tr>\n",
       "    <tr>\n",
       "      <th>15616</th>\n",
       "      <td>more than 1 million</td>\n",
       "      <td>Employed for wages</td>\n",
       "      <td>male</td>\n",
       "      <td>0.0</td>\n",
       "      <td>work for a startup</td>\n",
       "      <td>in an office with other developers</td>\n",
       "      <td>single, never married</td>\n",
       "      <td>10000.0</td>\n",
       "      <td>bachelor's degree</td>\n",
       "    </tr>\n",
       "    <tr>\n",
       "      <th>15617</th>\n",
       "      <td>more than 1 million</td>\n",
       "      <td>Self-employed freelancer</td>\n",
       "      <td>male</td>\n",
       "      <td>0.0</td>\n",
       "      <td>freelance</td>\n",
       "      <td>NaN</td>\n",
       "      <td>NaN</td>\n",
       "      <td>48000.0</td>\n",
       "      <td>bachelor's degree</td>\n",
       "    </tr>\n",
       "    <tr>\n",
       "      <th>15618</th>\n",
       "      <td>more than 1 million</td>\n",
       "      <td>Self-employed freelancer</td>\n",
       "      <td>male</td>\n",
       "      <td>0.0</td>\n",
       "      <td>NaN</td>\n",
       "      <td>NaN</td>\n",
       "      <td>NaN</td>\n",
       "      <td>10000.0</td>\n",
       "      <td>master's degree (non-professional)</td>\n",
       "    </tr>\n",
       "    <tr>\n",
       "      <th>15619</th>\n",
       "      <td>more than 1 million</td>\n",
       "      <td>Employed for wages</td>\n",
       "      <td>female</td>\n",
       "      <td>1.0</td>\n",
       "      <td>freelance</td>\n",
       "      <td>NaN</td>\n",
       "      <td>single, never married</td>\n",
       "      <td>18000.0</td>\n",
       "      <td>bachelor's degree</td>\n",
       "    </tr>\n",
       "  </tbody>\n",
       "</table>\n",
       "<p>15620 rows × 9 columns</p>\n",
       "</div>"
      ],
      "text/plain": [
       "                      CityPopulation          EmploymentStatus  Gender  \\\n",
       "0      between 100,000 and 1 million        Employed for wages    male   \n",
       "1      between 100,000 and 1 million        Employed for wages    male   \n",
       "2                more than 1 million        Employed for wages    male   \n",
       "3                more than 1 million        Employed for wages  female   \n",
       "4      between 100,000 and 1 million        Employed for wages  female   \n",
       "...                              ...                       ...     ...   \n",
       "15615            more than 1 million  Self-employed freelancer    male   \n",
       "15616            more than 1 million        Employed for wages    male   \n",
       "15617            more than 1 million  Self-employed freelancer    male   \n",
       "15618            more than 1 million  Self-employed freelancer    male   \n",
       "15619            more than 1 million        Employed for wages  female   \n",
       "\n",
       "       HasDebt                          JobPref  \\\n",
       "0          1.0                       freelance    \n",
       "1          0.0               work for a startup   \n",
       "2          0.0          start your own business   \n",
       "3          1.0               work for a startup   \n",
       "4          1.0  work for a medium-sized company   \n",
       "...        ...                              ...   \n",
       "15615      1.0          start your own business   \n",
       "15616      0.0               work for a startup   \n",
       "15617      0.0                       freelance    \n",
       "15618      0.0                              NaN   \n",
       "15619      1.0                       freelance    \n",
       "\n",
       "                             JobWherePref                    MaritalStatus  \\\n",
       "0                                     NaN  married or domestic partnership   \n",
       "1      in an office with other developers                              NaN   \n",
       "2                                     NaN                              NaN   \n",
       "3                               from home                              NaN   \n",
       "4      in an office with other developers                              NaN   \n",
       "...                                   ...                              ...   \n",
       "15615                                 NaN            single, never married   \n",
       "15616  in an office with other developers            single, never married   \n",
       "15617                                 NaN                              NaN   \n",
       "15618                                 NaN                              NaN   \n",
       "15619                                 NaN            single, never married   \n",
       "\n",
       "        Income                             SchoolDegree  \n",
       "0      32000.0           some college credit, no degree  \n",
       "1      15000.0           some college credit, no degree  \n",
       "2      48000.0  high school diploma or equivalent (GED)  \n",
       "3      43000.0                        bachelor's degree  \n",
       "4       6000.0           some college credit, no degree  \n",
       "...        ...                                      ...  \n",
       "15615  10000.0                        bachelor's degree  \n",
       "15616  10000.0                        bachelor's degree  \n",
       "15617  48000.0                        bachelor's degree  \n",
       "15618  10000.0       master's degree (non-professional)  \n",
       "15619  18000.0                        bachelor's degree  \n",
       "\n",
       "[15620 rows x 9 columns]"
      ]
     },
     "execution_count": 14,
     "metadata": {},
     "output_type": "execute_result"
    }
   ],
   "source": [
    "survey_df = survey_df[[\"CityPopulation\", \"EmploymentStatus\", \"Gender\", \"HasDebt\", \\\n",
    "                       \"JobPref\", \"JobWherePref\", \"MaritalStatus\", \"Income\", \"SchoolDegree\"]]\n",
    "survey_df"
   ]
  },
  {
   "cell_type": "code",
   "execution_count": 15,
   "id": "35020ed8",
   "metadata": {},
   "outputs": [
    {
     "data": {
      "text/plain": [
       "array(['male', 'female', nan, 'genderqueer', 'agender', 'trans'],\n",
       "      dtype=object)"
      ]
     },
     "execution_count": 15,
     "metadata": {},
     "output_type": "execute_result"
    }
   ],
   "source": [
    "survey_df[\"Gender\"].unique()"
   ]
  },
  {
   "cell_type": "markdown",
   "id": "b08a849d",
   "metadata": {},
   "source": [
    "Оставим только те строки, в которых знач. переменной Gender male или female"
   ]
  },
  {
   "cell_type": "code",
   "execution_count": 16,
   "id": "de90532d",
   "metadata": {},
   "outputs": [
    {
     "data": {
      "text/html": [
       "<div>\n",
       "<style scoped>\n",
       "    .dataframe tbody tr th:only-of-type {\n",
       "        vertical-align: middle;\n",
       "    }\n",
       "\n",
       "    .dataframe tbody tr th {\n",
       "        vertical-align: top;\n",
       "    }\n",
       "\n",
       "    .dataframe thead th {\n",
       "        text-align: right;\n",
       "    }\n",
       "</style>\n",
       "<table border=\"1\" class=\"dataframe\">\n",
       "  <thead>\n",
       "    <tr style=\"text-align: right;\">\n",
       "      <th></th>\n",
       "      <th>CityPopulation</th>\n",
       "      <th>EmploymentStatus</th>\n",
       "      <th>Gender</th>\n",
       "      <th>HasDebt</th>\n",
       "      <th>JobPref</th>\n",
       "      <th>JobWherePref</th>\n",
       "      <th>MaritalStatus</th>\n",
       "      <th>Income</th>\n",
       "      <th>SchoolDegree</th>\n",
       "    </tr>\n",
       "  </thead>\n",
       "  <tbody>\n",
       "    <tr>\n",
       "      <th>0</th>\n",
       "      <td>between 100,000 and 1 million</td>\n",
       "      <td>Employed for wages</td>\n",
       "      <td>male</td>\n",
       "      <td>1.0</td>\n",
       "      <td>freelance</td>\n",
       "      <td>NaN</td>\n",
       "      <td>married or domestic partnership</td>\n",
       "      <td>32000.0</td>\n",
       "      <td>some college credit, no degree</td>\n",
       "    </tr>\n",
       "    <tr>\n",
       "      <th>1</th>\n",
       "      <td>between 100,000 and 1 million</td>\n",
       "      <td>Employed for wages</td>\n",
       "      <td>male</td>\n",
       "      <td>0.0</td>\n",
       "      <td>work for a startup</td>\n",
       "      <td>in an office with other developers</td>\n",
       "      <td>NaN</td>\n",
       "      <td>15000.0</td>\n",
       "      <td>some college credit, no degree</td>\n",
       "    </tr>\n",
       "    <tr>\n",
       "      <th>2</th>\n",
       "      <td>more than 1 million</td>\n",
       "      <td>Employed for wages</td>\n",
       "      <td>male</td>\n",
       "      <td>0.0</td>\n",
       "      <td>start your own business</td>\n",
       "      <td>NaN</td>\n",
       "      <td>NaN</td>\n",
       "      <td>48000.0</td>\n",
       "      <td>high school diploma or equivalent (GED)</td>\n",
       "    </tr>\n",
       "    <tr>\n",
       "      <th>3</th>\n",
       "      <td>more than 1 million</td>\n",
       "      <td>Employed for wages</td>\n",
       "      <td>female</td>\n",
       "      <td>1.0</td>\n",
       "      <td>work for a startup</td>\n",
       "      <td>from home</td>\n",
       "      <td>NaN</td>\n",
       "      <td>43000.0</td>\n",
       "      <td>bachelor's degree</td>\n",
       "    </tr>\n",
       "    <tr>\n",
       "      <th>4</th>\n",
       "      <td>between 100,000 and 1 million</td>\n",
       "      <td>Employed for wages</td>\n",
       "      <td>female</td>\n",
       "      <td>1.0</td>\n",
       "      <td>work for a medium-sized company</td>\n",
       "      <td>in an office with other developers</td>\n",
       "      <td>NaN</td>\n",
       "      <td>6000.0</td>\n",
       "      <td>some college credit, no degree</td>\n",
       "    </tr>\n",
       "    <tr>\n",
       "      <th>...</th>\n",
       "      <td>...</td>\n",
       "      <td>...</td>\n",
       "      <td>...</td>\n",
       "      <td>...</td>\n",
       "      <td>...</td>\n",
       "      <td>...</td>\n",
       "      <td>...</td>\n",
       "      <td>...</td>\n",
       "      <td>...</td>\n",
       "    </tr>\n",
       "    <tr>\n",
       "      <th>15615</th>\n",
       "      <td>more than 1 million</td>\n",
       "      <td>Self-employed freelancer</td>\n",
       "      <td>male</td>\n",
       "      <td>1.0</td>\n",
       "      <td>start your own business</td>\n",
       "      <td>NaN</td>\n",
       "      <td>single, never married</td>\n",
       "      <td>10000.0</td>\n",
       "      <td>bachelor's degree</td>\n",
       "    </tr>\n",
       "    <tr>\n",
       "      <th>15616</th>\n",
       "      <td>more than 1 million</td>\n",
       "      <td>Employed for wages</td>\n",
       "      <td>male</td>\n",
       "      <td>0.0</td>\n",
       "      <td>work for a startup</td>\n",
       "      <td>in an office with other developers</td>\n",
       "      <td>single, never married</td>\n",
       "      <td>10000.0</td>\n",
       "      <td>bachelor's degree</td>\n",
       "    </tr>\n",
       "    <tr>\n",
       "      <th>15617</th>\n",
       "      <td>more than 1 million</td>\n",
       "      <td>Self-employed freelancer</td>\n",
       "      <td>male</td>\n",
       "      <td>0.0</td>\n",
       "      <td>freelance</td>\n",
       "      <td>NaN</td>\n",
       "      <td>NaN</td>\n",
       "      <td>48000.0</td>\n",
       "      <td>bachelor's degree</td>\n",
       "    </tr>\n",
       "    <tr>\n",
       "      <th>15618</th>\n",
       "      <td>more than 1 million</td>\n",
       "      <td>Self-employed freelancer</td>\n",
       "      <td>male</td>\n",
       "      <td>0.0</td>\n",
       "      <td>NaN</td>\n",
       "      <td>NaN</td>\n",
       "      <td>NaN</td>\n",
       "      <td>10000.0</td>\n",
       "      <td>master's degree (non-professional)</td>\n",
       "    </tr>\n",
       "    <tr>\n",
       "      <th>15619</th>\n",
       "      <td>more than 1 million</td>\n",
       "      <td>Employed for wages</td>\n",
       "      <td>female</td>\n",
       "      <td>1.0</td>\n",
       "      <td>freelance</td>\n",
       "      <td>NaN</td>\n",
       "      <td>single, never married</td>\n",
       "      <td>18000.0</td>\n",
       "      <td>bachelor's degree</td>\n",
       "    </tr>\n",
       "  </tbody>\n",
       "</table>\n",
       "<p>13606 rows × 9 columns</p>\n",
       "</div>"
      ],
      "text/plain": [
       "                      CityPopulation          EmploymentStatus  Gender  \\\n",
       "0      between 100,000 and 1 million        Employed for wages    male   \n",
       "1      between 100,000 and 1 million        Employed for wages    male   \n",
       "2                more than 1 million        Employed for wages    male   \n",
       "3                more than 1 million        Employed for wages  female   \n",
       "4      between 100,000 and 1 million        Employed for wages  female   \n",
       "...                              ...                       ...     ...   \n",
       "15615            more than 1 million  Self-employed freelancer    male   \n",
       "15616            more than 1 million        Employed for wages    male   \n",
       "15617            more than 1 million  Self-employed freelancer    male   \n",
       "15618            more than 1 million  Self-employed freelancer    male   \n",
       "15619            more than 1 million        Employed for wages  female   \n",
       "\n",
       "       HasDebt                          JobPref  \\\n",
       "0          1.0                       freelance    \n",
       "1          0.0               work for a startup   \n",
       "2          0.0          start your own business   \n",
       "3          1.0               work for a startup   \n",
       "4          1.0  work for a medium-sized company   \n",
       "...        ...                              ...   \n",
       "15615      1.0          start your own business   \n",
       "15616      0.0               work for a startup   \n",
       "15617      0.0                       freelance    \n",
       "15618      0.0                              NaN   \n",
       "15619      1.0                       freelance    \n",
       "\n",
       "                             JobWherePref                    MaritalStatus  \\\n",
       "0                                     NaN  married or domestic partnership   \n",
       "1      in an office with other developers                              NaN   \n",
       "2                                     NaN                              NaN   \n",
       "3                               from home                              NaN   \n",
       "4      in an office with other developers                              NaN   \n",
       "...                                   ...                              ...   \n",
       "15615                                 NaN            single, never married   \n",
       "15616  in an office with other developers            single, never married   \n",
       "15617                                 NaN                              NaN   \n",
       "15618                                 NaN                              NaN   \n",
       "15619                                 NaN            single, never married   \n",
       "\n",
       "        Income                             SchoolDegree  \n",
       "0      32000.0           some college credit, no degree  \n",
       "1      15000.0           some college credit, no degree  \n",
       "2      48000.0  high school diploma or equivalent (GED)  \n",
       "3      43000.0                        bachelor's degree  \n",
       "4       6000.0           some college credit, no degree  \n",
       "...        ...                                      ...  \n",
       "15615  10000.0                        bachelor's degree  \n",
       "15616  10000.0                        bachelor's degree  \n",
       "15617  48000.0                        bachelor's degree  \n",
       "15618  10000.0       master's degree (non-professional)  \n",
       "15619  18000.0                        bachelor's degree  \n",
       "\n",
       "[13606 rows x 9 columns]"
      ]
     },
     "execution_count": 16,
     "metadata": {},
     "output_type": "execute_result"
    }
   ],
   "source": [
    "survey_df = survey_df.loc[survey_df[\"Gender\"].isin([\"male\", \"female\"]) ]\n",
    "survey_df"
   ]
  },
  {
   "cell_type": "code",
   "execution_count": 17,
   "id": "f7b7ad5f",
   "metadata": {},
   "outputs": [
    {
     "data": {
      "text/plain": [
       "array(['male', 'female'], dtype=object)"
      ]
     },
     "execution_count": 17,
     "metadata": {},
     "output_type": "execute_result"
    }
   ],
   "source": [
    "survey_df[\"Gender\"].unique()"
   ]
  },
  {
   "cell_type": "markdown",
   "id": "4ef1f63a",
   "metadata": {},
   "source": [
    "C помощью однофакторного анализа проверим как Income (доход) зависит от SchoolDegree"
   ]
  },
  {
   "cell_type": "code",
   "execution_count": 26,
   "id": "b41640f9",
   "metadata": {},
   "outputs": [
    {
     "data": {
      "text/html": [
       "<div>\n",
       "<style scoped>\n",
       "    .dataframe tbody tr th:only-of-type {\n",
       "        vertical-align: middle;\n",
       "    }\n",
       "\n",
       "    .dataframe tbody tr th {\n",
       "        vertical-align: top;\n",
       "    }\n",
       "\n",
       "    .dataframe thead th {\n",
       "        text-align: right;\n",
       "    }\n",
       "</style>\n",
       "<table border=\"1\" class=\"dataframe\">\n",
       "  <thead>\n",
       "    <tr style=\"text-align: right;\">\n",
       "      <th></th>\n",
       "      <th>Income</th>\n",
       "      <th>SchoolDegree</th>\n",
       "    </tr>\n",
       "  </thead>\n",
       "  <tbody>\n",
       "    <tr>\n",
       "      <th>0</th>\n",
       "      <td>32000.0</td>\n",
       "      <td>some college credit, no degree</td>\n",
       "    </tr>\n",
       "    <tr>\n",
       "      <th>1</th>\n",
       "      <td>15000.0</td>\n",
       "      <td>some college credit, no degree</td>\n",
       "    </tr>\n",
       "    <tr>\n",
       "      <th>2</th>\n",
       "      <td>48000.0</td>\n",
       "      <td>high school diploma or equivalent (GED)</td>\n",
       "    </tr>\n",
       "    <tr>\n",
       "      <th>3</th>\n",
       "      <td>43000.0</td>\n",
       "      <td>bachelor's degree</td>\n",
       "    </tr>\n",
       "    <tr>\n",
       "      <th>4</th>\n",
       "      <td>6000.0</td>\n",
       "      <td>some college credit, no degree</td>\n",
       "    </tr>\n",
       "    <tr>\n",
       "      <th>...</th>\n",
       "      <td>...</td>\n",
       "      <td>...</td>\n",
       "    </tr>\n",
       "    <tr>\n",
       "      <th>15615</th>\n",
       "      <td>10000.0</td>\n",
       "      <td>bachelor's degree</td>\n",
       "    </tr>\n",
       "    <tr>\n",
       "      <th>15616</th>\n",
       "      <td>10000.0</td>\n",
       "      <td>bachelor's degree</td>\n",
       "    </tr>\n",
       "    <tr>\n",
       "      <th>15617</th>\n",
       "      <td>48000.0</td>\n",
       "      <td>bachelor's degree</td>\n",
       "    </tr>\n",
       "    <tr>\n",
       "      <th>15618</th>\n",
       "      <td>10000.0</td>\n",
       "      <td>master's degree (non-professional)</td>\n",
       "    </tr>\n",
       "    <tr>\n",
       "      <th>15619</th>\n",
       "      <td>18000.0</td>\n",
       "      <td>bachelor's degree</td>\n",
       "    </tr>\n",
       "  </tbody>\n",
       "</table>\n",
       "<p>7227 rows × 2 columns</p>\n",
       "</div>"
      ],
      "text/plain": [
       "        Income                             SchoolDegree\n",
       "0      32000.0           some college credit, no degree\n",
       "1      15000.0           some college credit, no degree\n",
       "2      48000.0  high school diploma or equivalent (GED)\n",
       "3      43000.0                        bachelor's degree\n",
       "4       6000.0           some college credit, no degree\n",
       "...        ...                                      ...\n",
       "15615  10000.0                        bachelor's degree\n",
       "15616  10000.0                        bachelor's degree\n",
       "15617  48000.0                        bachelor's degree\n",
       "15618  10000.0       master's degree (non-professional)\n",
       "15619  18000.0                        bachelor's degree\n",
       "\n",
       "[7227 rows x 2 columns]"
      ]
     },
     "execution_count": 26,
     "metadata": {},
     "output_type": "execute_result"
    }
   ],
   "source": [
    "df_1 = survey_df[[\"Income\", \"SchoolDegree\"]].dropna()\n",
    "df_1"
   ]
  },
  {
   "cell_type": "code",
   "execution_count": 27,
   "id": "34d73a01",
   "metadata": {},
   "outputs": [
    {
     "data": {
      "text/plain": [
       "array(['some college credit, no degree',\n",
       "       'high school diploma or equivalent (GED)', \"bachelor's degree\",\n",
       "       \"master's degree (non-professional)\",\n",
       "       'trade, technical, or vocational training', \"associate's degree\",\n",
       "       'some high school', 'professional degree (MBA, MD, JD, etc.)',\n",
       "       'Ph.D.', 'no high school (secondary school)'], dtype=object)"
      ]
     },
     "execution_count": 27,
     "metadata": {},
     "output_type": "execute_result"
    }
   ],
   "source": [
    "df_1.SchoolDegree.unique()"
   ]
  },
  {
   "cell_type": "code",
   "execution_count": 28,
   "id": "a9667826",
   "metadata": {},
   "outputs": [
    {
     "data": {
      "text/plain": [
       "array([[<Axes: title={'center': 'Income'}>]], dtype=object)"
      ]
     },
     "execution_count": 28,
     "metadata": {},
     "output_type": "execute_result"
    },
    {
     "data": {
      "image/png": "[encoded data removed]",
      "text/plain": [
       "<Figure size 640x480 with 1 Axes>"
      ]
     },
     "metadata": {},
     "output_type": "display_data"
    }
   ],
   "source": [
    "df_1.hist()"
   ]
  },
  {
   "cell_type": "markdown",
   "id": "c20656f0",
   "metadata": {},
   "source": [
    "Из гистограммы видно что распределение Income отличается от нормального, оно экспоненциальное "
   ]
  },
  {
   "cell_type": "markdown",
   "id": "d1ebf315",
   "metadata": {},
   "source": [
    "Т.к. нормальность не выполняется произведем лог-трансформацию"
   ]
  },
  {
   "cell_type": "code",
   "execution_count": 32,
   "id": "d08255f8",
   "metadata": {},
   "outputs": [
    {
     "data": {
      "text/html": [
       "<div>\n",
       "<style scoped>\n",
       "    .dataframe tbody tr th:only-of-type {\n",
       "        vertical-align: middle;\n",
       "    }\n",
       "\n",
       "    .dataframe tbody tr th {\n",
       "        vertical-align: top;\n",
       "    }\n",
       "\n",
       "    .dataframe thead th {\n",
       "        text-align: right;\n",
       "    }\n",
       "</style>\n",
       "<table border=\"1\" class=\"dataframe\">\n",
       "  <thead>\n",
       "    <tr style=\"text-align: right;\">\n",
       "      <th></th>\n",
       "      <th>Income</th>\n",
       "      <th>SchoolDegree</th>\n",
       "    </tr>\n",
       "  </thead>\n",
       "  <tbody>\n",
       "    <tr>\n",
       "      <th>0</th>\n",
       "      <td>4.505150</td>\n",
       "      <td>some college credit, no degree</td>\n",
       "    </tr>\n",
       "    <tr>\n",
       "      <th>1</th>\n",
       "      <td>4.176091</td>\n",
       "      <td>some college credit, no degree</td>\n",
       "    </tr>\n",
       "    <tr>\n",
       "      <th>2</th>\n",
       "      <td>4.681241</td>\n",
       "      <td>high school diploma or equivalent (GED)</td>\n",
       "    </tr>\n",
       "    <tr>\n",
       "      <th>3</th>\n",
       "      <td>4.633468</td>\n",
       "      <td>bachelor's degree</td>\n",
       "    </tr>\n",
       "    <tr>\n",
       "      <th>4</th>\n",
       "      <td>3.778151</td>\n",
       "      <td>some college credit, no degree</td>\n",
       "    </tr>\n",
       "    <tr>\n",
       "      <th>...</th>\n",
       "      <td>...</td>\n",
       "      <td>...</td>\n",
       "    </tr>\n",
       "    <tr>\n",
       "      <th>15615</th>\n",
       "      <td>4.000000</td>\n",
       "      <td>bachelor's degree</td>\n",
       "    </tr>\n",
       "    <tr>\n",
       "      <th>15616</th>\n",
       "      <td>4.000000</td>\n",
       "      <td>bachelor's degree</td>\n",
       "    </tr>\n",
       "    <tr>\n",
       "      <th>15617</th>\n",
       "      <td>4.681241</td>\n",
       "      <td>bachelor's degree</td>\n",
       "    </tr>\n",
       "    <tr>\n",
       "      <th>15618</th>\n",
       "      <td>4.000000</td>\n",
       "      <td>master's degree (non-professional)</td>\n",
       "    </tr>\n",
       "    <tr>\n",
       "      <th>15619</th>\n",
       "      <td>4.255273</td>\n",
       "      <td>bachelor's degree</td>\n",
       "    </tr>\n",
       "  </tbody>\n",
       "</table>\n",
       "<p>7227 rows × 2 columns</p>\n",
       "</div>"
      ],
      "text/plain": [
       "         Income                             SchoolDegree\n",
       "0      4.505150           some college credit, no degree\n",
       "1      4.176091           some college credit, no degree\n",
       "2      4.681241  high school diploma or equivalent (GED)\n",
       "3      4.633468                        bachelor's degree\n",
       "4      3.778151           some college credit, no degree\n",
       "...         ...                                      ...\n",
       "15615  4.000000                        bachelor's degree\n",
       "15616  4.000000                        bachelor's degree\n",
       "15617  4.681241                        bachelor's degree\n",
       "15618  4.000000       master's degree (non-professional)\n",
       "15619  4.255273                        bachelor's degree\n",
       "\n",
       "[7227 rows x 2 columns]"
      ]
     },
     "execution_count": 32,
     "metadata": {},
     "output_type": "execute_result"
    }
   ],
   "source": [
    "df_1[\"Income\"] = df_1[\"Income\"].apply(np.log10)\n",
    "df_1"
   ]
  },
  {
   "cell_type": "code",
   "execution_count": 33,
   "id": "9151582d",
   "metadata": {},
   "outputs": [
    {
     "data": {
      "text/plain": [
       "array([[<Axes: title={'center': 'Income'}>]], dtype=object)"
      ]
     },
     "execution_count": 33,
     "metadata": {},
     "output_type": "execute_result"
    },
    {
     "data": {
      "image/png": "[encoded data removed]",
      "text/plain": [
       "<Figure size 640x480 with 1 Axes>"
      ]
     },
     "metadata": {},
     "output_type": "display_data"
    }
   ],
   "source": [
    "df_1.hist()"
   ]
  },
  {
   "cell_type": "code",
   "execution_count": 45,
   "id": "1e026ee8",
   "metadata": {},
   "outputs": [
    {
     "data": {
      "image/png": "[encoded data removed]",
      "text/plain": [
       "<Figure size 640x480 with 1 Axes>"
      ]
     },
     "metadata": {},
     "output_type": "display_data"
    }
   ],
   "source": [
    "sm.ProbPlot(df_1[\"Income\"], dist=stats.norm).qqplot(line=\"r\")\n",
    "plt.show()"
   ]
  },
  {
   "cell_type": "markdown",
   "id": "48c65bbc",
   "metadata": {},
   "source": [
    "Выборка > 2000 и имеются выбросы на хвостах распределения, то воспользуемся критерием Андерсона-Дарлинга для проверки на нормальность распределения "
   ]
  },
  {
   "cell_type": "code",
   "execution_count": 46,
   "id": "1afc673a",
   "metadata": {},
   "outputs": [
    {
     "data": {
      "text/plain": [
       "AndersonResult(statistic=38.44861552906332, critical_values=array([0.576, 0.656, 0.787, 0.917, 1.091]), significance_level=array([15. , 10. ,  5. ,  2.5,  1. ]), fit_result=  params: FitParams(loc=4.528657324805018, scale=0.34191911752984305)\n",
       " success: True\n",
       " message: '`anderson` successfully fit the distribution to the data.')"
      ]
     },
     "execution_count": 46,
     "metadata": {},
     "output_type": "execute_result"
    }
   ],
   "source": [
    "stats.anderson(df_1[\"Income\"])"
   ]
  },
  {
   "cell_type": "markdown",
   "id": "941b6640",
   "metadata": {},
   "source": [
    "Распределение отличается от нормального, т.к. A-стат. = 38.4 а крит. знач. при alpha = 15 % 0.576 => A-стат > крит. знач. => отвернается основная гипотеза о нормальности распределения  "
   ]
  },
  {
   "cell_type": "markdown",
   "id": "7f8cf2ea",
   "metadata": {},
   "source": [
    "Нормальность не выполняется, тогда ограничим выборку 100 строками"
   ]
  },
  {
   "cell_type": "code",
   "execution_count": 59,
   "id": "ec952e5b",
   "metadata": {},
   "outputs": [
    {
     "data": {
      "text/html": [
       "<div>\n",
       "<style scoped>\n",
       "    .dataframe tbody tr th:only-of-type {\n",
       "        vertical-align: middle;\n",
       "    }\n",
       "\n",
       "    .dataframe tbody tr th {\n",
       "        vertical-align: top;\n",
       "    }\n",
       "\n",
       "    .dataframe thead th {\n",
       "        text-align: right;\n",
       "    }\n",
       "</style>\n",
       "<table border=\"1\" class=\"dataframe\">\n",
       "  <thead>\n",
       "    <tr style=\"text-align: right;\">\n",
       "      <th></th>\n",
       "      <th>Income</th>\n",
       "      <th>SchoolDegree</th>\n",
       "    </tr>\n",
       "  </thead>\n",
       "  <tbody>\n",
       "    <tr>\n",
       "      <th>811</th>\n",
       "      <td>6000.0</td>\n",
       "      <td>bachelor's degree</td>\n",
       "    </tr>\n",
       "    <tr>\n",
       "      <th>777</th>\n",
       "      <td>60000.0</td>\n",
       "      <td>master's degree (non-professional)</td>\n",
       "    </tr>\n",
       "    <tr>\n",
       "      <th>9971</th>\n",
       "      <td>30000.0</td>\n",
       "      <td>associate's degree</td>\n",
       "    </tr>\n",
       "    <tr>\n",
       "      <th>10607</th>\n",
       "      <td>85000.0</td>\n",
       "      <td>bachelor's degree</td>\n",
       "    </tr>\n",
       "    <tr>\n",
       "      <th>4299</th>\n",
       "      <td>48000.0</td>\n",
       "      <td>some college credit, no degree</td>\n",
       "    </tr>\n",
       "    <tr>\n",
       "      <th>...</th>\n",
       "      <td>...</td>\n",
       "      <td>...</td>\n",
       "    </tr>\n",
       "    <tr>\n",
       "      <th>15554</th>\n",
       "      <td>200000.0</td>\n",
       "      <td>bachelor's degree</td>\n",
       "    </tr>\n",
       "    <tr>\n",
       "      <th>2875</th>\n",
       "      <td>27000.0</td>\n",
       "      <td>master's degree (non-professional)</td>\n",
       "    </tr>\n",
       "    <tr>\n",
       "      <th>14787</th>\n",
       "      <td>31200.0</td>\n",
       "      <td>some college credit, no degree</td>\n",
       "    </tr>\n",
       "    <tr>\n",
       "      <th>513</th>\n",
       "      <td>17000.0</td>\n",
       "      <td>some college credit, no degree</td>\n",
       "    </tr>\n",
       "    <tr>\n",
       "      <th>7596</th>\n",
       "      <td>65000.0</td>\n",
       "      <td>bachelor's degree</td>\n",
       "    </tr>\n",
       "  </tbody>\n",
       "</table>\n",
       "<p>100 rows × 2 columns</p>\n",
       "</div>"
      ],
      "text/plain": [
       "         Income                        SchoolDegree\n",
       "811      6000.0                   bachelor's degree\n",
       "777     60000.0  master's degree (non-professional)\n",
       "9971    30000.0                  associate's degree\n",
       "10607   85000.0                   bachelor's degree\n",
       "4299    48000.0      some college credit, no degree\n",
       "...         ...                                 ...\n",
       "15554  200000.0                   bachelor's degree\n",
       "2875    27000.0  master's degree (non-professional)\n",
       "14787   31200.0      some college credit, no degree\n",
       "513     17000.0      some college credit, no degree\n",
       "7596    65000.0                   bachelor's degree\n",
       "\n",
       "[100 rows x 2 columns]"
      ]
     },
     "execution_count": 59,
     "metadata": {},
     "output_type": "execute_result"
    }
   ],
   "source": [
    "df_1 = survey_df[[\"Income\",\"SchoolDegree\"]].dropna().sample(n=100)\n",
    "df_1"
   ]
  },
  {
   "cell_type": "code",
   "execution_count": 60,
   "id": "45119881",
   "metadata": {
    "scrolled": false
   },
   "outputs": [
    {
     "data": {
      "text/plain": [
       "array([[<Axes: title={'center': 'Income'}>]], dtype=object)"
      ]
     },
     "execution_count": 60,
     "metadata": {},
     "output_type": "execute_result"
    },
    {
     "data": {
      "image/png": "[encoded data removed]",
      "text/plain": [
       "<Figure size 640x480 with 1 Axes>"
      ]
     },
     "metadata": {},
     "output_type": "display_data"
    }
   ],
   "source": [
    "df_1.hist()"
   ]
  },
  {
   "cell_type": "code",
   "execution_count": 61,
   "id": "5eb1bd5f",
   "metadata": {},
   "outputs": [
    {
     "data": {
      "text/plain": [
       "array([[<Axes: title={'center': 'Income'}>]], dtype=object)"
      ]
     },
     "execution_count": 61,
     "metadata": {},
     "output_type": "execute_result"
    },
    {
     "data": {
      "image/png": "[encoded data removed]",
      "text/plain": [
       "<Figure size 640x480 with 1 Axes>"
      ]
     },
     "metadata": {},
     "output_type": "display_data"
    }
   ],
   "source": [
    "df_1[\"Income\"] = df_1[\"Income\"].apply(np.log10) # лог-трансформация\n",
    "df_1.hist()"
   ]
  },
  {
   "cell_type": "code",
   "execution_count": 63,
   "id": "c22aeccb",
   "metadata": {},
   "outputs": [
    {
     "data": {
      "text/plain": [
       "ShapiroResult(statistic=0.9826740622520447, pvalue=0.21353144943714142)"
      ]
     },
     "execution_count": 63,
     "metadata": {},
     "output_type": "execute_result"
    }
   ],
   "source": [
    "stats.shapiro(df_1[\"Income\"]) # Критерий Шапира-Уилка"
   ]
  },
  {
   "cell_type": "markdown",
   "id": "b3d7fd91",
   "metadata": {},
   "source": [
    "p-val > 0.05 => распределение нормальное "
   ]
  },
  {
   "cell_type": "markdown",
   "id": "feba4ce0",
   "metadata": {},
   "source": [
    "Проверим гомоскедестичность дисперсий"
   ]
  },
  {
   "cell_type": "code",
   "execution_count": 98,
   "id": "ae8ac674",
   "metadata": {},
   "outputs": [
    {
     "data": {
      "text/plain": [
       "array([\"bachelor's degree\", \"master's degree (non-professional)\",\n",
       "       \"associate's degree\", 'some college credit, no degree', 'Ph.D.',\n",
       "       'high school diploma or equivalent (GED)',\n",
       "       'trade, technical, or vocational training',\n",
       "       'professional degree (MBA, MD, JD, etc.)', 'some high school',\n",
       "       'no high school (secondary school)'], dtype=object)"
      ]
     },
     "execution_count": 98,
     "metadata": {},
     "output_type": "execute_result"
    }
   ],
   "source": [
    "df_1[\"SchoolDegree\"].uniqueque()"
   ]
  },
  {
   "cell_type": "code",
   "execution_count": 92,
   "id": "efb93b71",
   "metadata": {},
   "outputs": [
    {
     "data": {
      "text/plain": [
       "bachelor's degree                           41\n",
       "some college credit, no degree              25\n",
       "master's degree (non-professional)          14\n",
       "associate's degree                           7\n",
       "high school diploma or equivalent (GED)      3\n",
       "trade, technical, or vocational training     3\n",
       "Ph.D.                                        2\n",
       "professional degree (MBA, MD, JD, etc.)      2\n",
       "some high school                             2\n",
       "no high school (secondary school)            1\n",
       "Name: SchoolDegree, dtype: int64"
      ]
     },
     "execution_count": 92,
     "metadata": {},
     "output_type": "execute_result"
    }
   ],
   "source": [
    "df_1[\"SchoolDegree\"].value_counts()"
   ]
  },
  {
   "cell_type": "markdown",
   "id": "762700bf",
   "metadata": {},
   "source": [
    "Объединим градации последние 7 градаций и назовем их \"etc\""
   ]
  },
  {
   "cell_type": "code",
   "execution_count": 95,
   "id": "05cd8b75",
   "metadata": {},
   "outputs": [
    {
     "data": {
      "text/html": [
       "<div>\n",
       "<style scoped>\n",
       "    .dataframe tbody tr th:only-of-type {\n",
       "        vertical-align: middle;\n",
       "    }\n",
       "\n",
       "    .dataframe tbody tr th {\n",
       "        vertical-align: top;\n",
       "    }\n",
       "\n",
       "    .dataframe thead th {\n",
       "        text-align: right;\n",
       "    }\n",
       "</style>\n",
       "<table border=\"1\" class=\"dataframe\">\n",
       "  <thead>\n",
       "    <tr style=\"text-align: right;\">\n",
       "      <th></th>\n",
       "      <th>Income</th>\n",
       "      <th>SchoolDegree</th>\n",
       "    </tr>\n",
       "  </thead>\n",
       "  <tbody>\n",
       "    <tr>\n",
       "      <th>811</th>\n",
       "      <td>3.778151</td>\n",
       "      <td>bachelor's degree</td>\n",
       "    </tr>\n",
       "    <tr>\n",
       "      <th>10607</th>\n",
       "      <td>4.929419</td>\n",
       "      <td>bachelor's degree</td>\n",
       "    </tr>\n",
       "    <tr>\n",
       "      <th>8084</th>\n",
       "      <td>4.477121</td>\n",
       "      <td>bachelor's degree</td>\n",
       "    </tr>\n",
       "    <tr>\n",
       "      <th>15547</th>\n",
       "      <td>5.301030</td>\n",
       "      <td>bachelor's degree</td>\n",
       "    </tr>\n",
       "    <tr>\n",
       "      <th>3156</th>\n",
       "      <td>4.278754</td>\n",
       "      <td>bachelor's degree</td>\n",
       "    </tr>\n",
       "  </tbody>\n",
       "</table>\n",
       "</div>"
      ],
      "text/plain": [
       "         Income       SchoolDegree\n",
       "811    3.778151  bachelor's degree\n",
       "10607  4.929419  bachelor's degree\n",
       "8084   4.477121  bachelor's degree\n",
       "15547  5.301030  bachelor's degree\n",
       "3156   4.278754  bachelor's degree"
      ]
     },
     "execution_count": 95,
     "metadata": {},
     "output_type": "execute_result"
    }
   ],
   "source": [
    "table_1 = df_1.loc[df_1[\"SchoolDegree\"] == \"bachelor's degree\"]\n",
    "table_1.head()"
   ]
  },
  {
   "cell_type": "code",
   "execution_count": 96,
   "id": "729ac601",
   "metadata": {},
   "outputs": [
    {
     "data": {
      "text/html": [
       "<div>\n",
       "<style scoped>\n",
       "    .dataframe tbody tr th:only-of-type {\n",
       "        vertical-align: middle;\n",
       "    }\n",
       "\n",
       "    .dataframe tbody tr th {\n",
       "        vertical-align: top;\n",
       "    }\n",
       "\n",
       "    .dataframe thead th {\n",
       "        text-align: right;\n",
       "    }\n",
       "</style>\n",
       "<table border=\"1\" class=\"dataframe\">\n",
       "  <thead>\n",
       "    <tr style=\"text-align: right;\">\n",
       "      <th></th>\n",
       "      <th>Income</th>\n",
       "      <th>SchoolDegree</th>\n",
       "    </tr>\n",
       "  </thead>\n",
       "  <tbody>\n",
       "    <tr>\n",
       "      <th>4299</th>\n",
       "      <td>4.681241</td>\n",
       "      <td>some college credit, no degree</td>\n",
       "    </tr>\n",
       "    <tr>\n",
       "      <th>1404</th>\n",
       "      <td>4.000000</td>\n",
       "      <td>some college credit, no degree</td>\n",
       "    </tr>\n",
       "    <tr>\n",
       "      <th>3504</th>\n",
       "      <td>4.000000</td>\n",
       "      <td>some college credit, no degree</td>\n",
       "    </tr>\n",
       "    <tr>\n",
       "      <th>4370</th>\n",
       "      <td>4.176091</td>\n",
       "      <td>some college credit, no degree</td>\n",
       "    </tr>\n",
       "    <tr>\n",
       "      <th>12690</th>\n",
       "      <td>4.096910</td>\n",
       "      <td>some college credit, no degree</td>\n",
       "    </tr>\n",
       "  </tbody>\n",
       "</table>\n",
       "</div>"
      ],
      "text/plain": [
       "         Income                    SchoolDegree\n",
       "4299   4.681241  some college credit, no degree\n",
       "1404   4.000000  some college credit, no degree\n",
       "3504   4.000000  some college credit, no degree\n",
       "4370   4.176091  some college credit, no degree\n",
       "12690  4.096910  some college credit, no degree"
      ]
     },
     "execution_count": 96,
     "metadata": {},
     "output_type": "execute_result"
    }
   ],
   "source": [
    "table_2 = df_1.loc[df_1[\"SchoolDegree\"] == \"some college credit, no degree\"]\n",
    "table_2.head()"
   ]
  },
  {
   "cell_type": "code",
   "execution_count": 97,
   "id": "2580b1b1",
   "metadata": {},
   "outputs": [
    {
     "data": {
      "text/html": [
       "<div>\n",
       "<style scoped>\n",
       "    .dataframe tbody tr th:only-of-type {\n",
       "        vertical-align: middle;\n",
       "    }\n",
       "\n",
       "    .dataframe tbody tr th {\n",
       "        vertical-align: top;\n",
       "    }\n",
       "\n",
       "    .dataframe thead th {\n",
       "        text-align: right;\n",
       "    }\n",
       "</style>\n",
       "<table border=\"1\" class=\"dataframe\">\n",
       "  <thead>\n",
       "    <tr style=\"text-align: right;\">\n",
       "      <th></th>\n",
       "      <th>Income</th>\n",
       "      <th>SchoolDegree</th>\n",
       "    </tr>\n",
       "  </thead>\n",
       "  <tbody>\n",
       "    <tr>\n",
       "      <th>777</th>\n",
       "      <td>4.778151</td>\n",
       "      <td>master's degree (non-professional)</td>\n",
       "    </tr>\n",
       "    <tr>\n",
       "      <th>1432</th>\n",
       "      <td>4.477121</td>\n",
       "      <td>master's degree (non-professional)</td>\n",
       "    </tr>\n",
       "    <tr>\n",
       "      <th>15236</th>\n",
       "      <td>4.380211</td>\n",
       "      <td>master's degree (non-professional)</td>\n",
       "    </tr>\n",
       "    <tr>\n",
       "      <th>13565</th>\n",
       "      <td>4.681241</td>\n",
       "      <td>master's degree (non-professional)</td>\n",
       "    </tr>\n",
       "    <tr>\n",
       "      <th>15463</th>\n",
       "      <td>4.556303</td>\n",
       "      <td>master's degree (non-professional)</td>\n",
       "    </tr>\n",
       "  </tbody>\n",
       "</table>\n",
       "</div>"
      ],
      "text/plain": [
       "         Income                        SchoolDegree\n",
       "777    4.778151  master's degree (non-professional)\n",
       "1432   4.477121  master's degree (non-professional)\n",
       "15236  4.380211  master's degree (non-professional)\n",
       "13565  4.681241  master's degree (non-professional)\n",
       "15463  4.556303  master's degree (non-professional)"
      ]
     },
     "execution_count": 97,
     "metadata": {},
     "output_type": "execute_result"
    }
   ],
   "source": [
    "table_3 = df_1.loc[df_1[\"SchoolDegree\"] == \"master's degree (non-professional)\"]\n",
    "table_3.head()"
   ]
  },
  {
   "cell_type": "code",
   "execution_count": 105,
   "id": "cb74e43b",
   "metadata": {},
   "outputs": [
    {
     "data": {
      "text/html": [
       "<div>\n",
       "<style scoped>\n",
       "    .dataframe tbody tr th:only-of-type {\n",
       "        vertical-align: middle;\n",
       "    }\n",
       "\n",
       "    .dataframe tbody tr th {\n",
       "        vertical-align: top;\n",
       "    }\n",
       "\n",
       "    .dataframe thead th {\n",
       "        text-align: right;\n",
       "    }\n",
       "</style>\n",
       "<table border=\"1\" class=\"dataframe\">\n",
       "  <thead>\n",
       "    <tr style=\"text-align: right;\">\n",
       "      <th></th>\n",
       "      <th>Income</th>\n",
       "      <th>SchoolDegree</th>\n",
       "    </tr>\n",
       "  </thead>\n",
       "  <tbody>\n",
       "    <tr>\n",
       "      <th>9971</th>\n",
       "      <td>4.477121</td>\n",
       "      <td>etc</td>\n",
       "    </tr>\n",
       "    <tr>\n",
       "      <th>2939</th>\n",
       "      <td>5.041393</td>\n",
       "      <td>etc</td>\n",
       "    </tr>\n",
       "    <tr>\n",
       "      <th>8749</th>\n",
       "      <td>4.579784</td>\n",
       "      <td>etc</td>\n",
       "    </tr>\n",
       "    <tr>\n",
       "      <th>1572</th>\n",
       "      <td>4.301030</td>\n",
       "      <td>etc</td>\n",
       "    </tr>\n",
       "    <tr>\n",
       "      <th>7693</th>\n",
       "      <td>3.929419</td>\n",
       "      <td>etc</td>\n",
       "    </tr>\n",
       "  </tbody>\n",
       "</table>\n",
       "</div>"
      ],
      "text/plain": [
       "        Income SchoolDegree\n",
       "9971  4.477121          etc\n",
       "2939  5.041393          etc\n",
       "8749  4.579784          etc\n",
       "1572  4.301030          etc\n",
       "7693  3.929419          etc"
      ]
     },
     "execution_count": 105,
     "metadata": {},
     "output_type": "execute_result"
    }
   ],
   "source": [
    "table_4 = df_1.loc[df_1[\"SchoolDegree\"].isin([\"associate's degree\", 'Ph.D.',\\\n",
    "       'high school diploma or equivalent (GED)',\\\n",
    "       'trade, technical, or vocational training',\\\n",
    "       'professional degree (MBA, MD, JD, etc.)', 'some high school',\\\n",
    "       'no high school (secondary school)'])]\n",
    "\n",
    "table_4 = table_4.drop(columns=[\"SchoolDegree\"])\n",
    "table_4[\"SchoolDegree\"] = \"etc\" \n",
    "table_4.head()"
   ]
  },
  {
   "cell_type": "code",
   "execution_count": 115,
   "id": "9beb9fe1",
   "metadata": {},
   "outputs": [
    {
     "data": {
      "image/png": "[encoded data removed]",
      "text/plain": [
       "<Figure size 640x480 with 1 Axes>"
      ]
     },
     "metadata": {},
     "output_type": "display_data"
    }
   ],
   "source": [
    "plt.boxplot([table_1[\"Income\"], table_2[\"Income\"], table_3[\"Income\"], table_4[\"Income\"]],  patch_artist=True)\n",
    "plt.title(\"Box-Plot\")\n",
    "plt.xlabel(\"Group\")\n",
    "plt.ylabel(\"Values\")\n",
    "plt.show()"
   ]
  },
  {
   "cell_type": "code",
   "execution_count": 119,
   "id": "8e6835dc",
   "metadata": {},
   "outputs": [
    {
     "data": {
      "text/plain": [
       "LeveneResult(statistic=1.8364272022850563, pvalue=0.1457030984180629)"
      ]
     },
     "execution_count": 119,
     "metadata": {},
     "output_type": "execute_result"
    }
   ],
   "source": [
    "stats.levene(table_1[\"Income\"], table_2[\"Income\"], table_3[\"Income\"], table_4[\"Income\"])"
   ]
  },
  {
   "cell_type": "markdown",
   "id": "abf66cf6",
   "metadata": {},
   "source": [
    "p-val > 0.05 => осноная гипотеза о равентсве дисперсий принимается (присутсвует гомоскедестичнсть)"
   ]
  },
  {
   "cell_type": "code",
   "execution_count": 121,
   "id": "c870fd1c",
   "metadata": {},
   "outputs": [
    {
     "data": {
      "text/plain": [
       "F_onewayResult(statistic=0.2679950301236047, pvalue=0.8483218918353114)"
      ]
     },
     "execution_count": 121,
     "metadata": {},
     "output_type": "execute_result"
    }
   ],
   "source": [
    "stats.f_oneway(table_1[\"Income\"], table_2[\"Income\"], table_3[\"Income\"], table_4[\"Income\"])"
   ]
  },
  {
   "cell_type": "markdown",
   "id": "7b2a6307",
   "metadata": {},
   "source": [
    "p-val > 0.5 => средние выборок не отличаются, т.е. доход не зависит от школьного образования"
   ]
  },
  {
   "cell_type": "code",
   "execution_count": 127,
   "id": "4d4438be",
   "metadata": {},
   "outputs": [],
   "source": [
    "tables = pd.concat([table_1, table_2, table_3, table_4], ignore_index=True)"
   ]
  },
  {
   "cell_type": "markdown",
   "id": "56ef0939",
   "metadata": {},
   "source": [
    "Проведем тест Тьюки"
   ]
  },
  {
   "cell_type": "code",
   "execution_count": 128,
   "id": "54468e83",
   "metadata": {},
   "outputs": [
    {
     "name": "stdout",
     "output_type": "stream",
     "text": [
      "                            Multiple Comparison of Means - Tukey HSD, FWER=0.05                            \n",
      "===========================================================================================================\n",
      "              group1                             group2               meandiff p-adj   lower  upper  reject\n",
      "-----------------------------------------------------------------------------------------------------------\n",
      "                 bachelor's degree                                etc   0.0368 0.9815 -0.2181 0.2918  False\n",
      "                 bachelor's degree master's degree (non-professional)  -0.0344 0.9895 -0.3237  0.255  False\n",
      "                 bachelor's degree     some college credit, no degree  -0.0532 0.9361 -0.2904  0.184  False\n",
      "                               etc master's degree (non-professional)  -0.0712 0.9403 -0.3969 0.2545  False\n",
      "                               etc     some college credit, no degree    -0.09 0.8358 -0.3704 0.1905  False\n",
      "master's degree (non-professional)     some college credit, no degree  -0.0188 0.9986 -0.3308 0.2933  False\n",
      "-----------------------------------------------------------------------------------------------------------\n"
     ]
    }
   ],
   "source": [
    "print(pairwise_tukeyhsd(tables['Income'], tables['SchoolDegree'], alpha=0.05))"
   ]
  },
  {
   "cell_type": "markdown",
   "id": "8c7e65f7",
   "metadata": {},
   "source": [
    "Все интервалы содержат ноль => средний доход по градациям значимо не различается"
   ]
  },
  {
   "cell_type": "markdown",
   "id": "3a08bf21",
   "metadata": {},
   "source": [
    "Проведем двуфакторный анализ для проверки, как на Income влияют Gender и MaritalStatus"
   ]
  },
  {
   "cell_type": "code",
   "execution_count": 131,
   "id": "606c5f33",
   "metadata": {},
   "outputs": [
    {
     "data": {
      "text/html": [
       "<div>\n",
       "<style scoped>\n",
       "    .dataframe tbody tr th:only-of-type {\n",
       "        vertical-align: middle;\n",
       "    }\n",
       "\n",
       "    .dataframe tbody tr th {\n",
       "        vertical-align: top;\n",
       "    }\n",
       "\n",
       "    .dataframe thead th {\n",
       "        text-align: right;\n",
       "    }\n",
       "</style>\n",
       "<table border=\"1\" class=\"dataframe\">\n",
       "  <thead>\n",
       "    <tr style=\"text-align: right;\">\n",
       "      <th></th>\n",
       "      <th>Income</th>\n",
       "      <th>Gender</th>\n",
       "      <th>MaritalStatus</th>\n",
       "    </tr>\n",
       "  </thead>\n",
       "  <tbody>\n",
       "    <tr>\n",
       "      <th>0</th>\n",
       "      <td>32000.0</td>\n",
       "      <td>male</td>\n",
       "      <td>married or domestic partnership</td>\n",
       "    </tr>\n",
       "    <tr>\n",
       "      <th>7</th>\n",
       "      <td>40000.0</td>\n",
       "      <td>male</td>\n",
       "      <td>married or domestic partnership</td>\n",
       "    </tr>\n",
       "    <tr>\n",
       "      <th>10</th>\n",
       "      <td>20000.0</td>\n",
       "      <td>male</td>\n",
       "      <td>married or domestic partnership</td>\n",
       "    </tr>\n",
       "    <tr>\n",
       "      <th>20</th>\n",
       "      <td>200000.0</td>\n",
       "      <td>female</td>\n",
       "      <td>married or domestic partnership</td>\n",
       "    </tr>\n",
       "    <tr>\n",
       "      <th>22</th>\n",
       "      <td>100000.0</td>\n",
       "      <td>female</td>\n",
       "      <td>single, never married</td>\n",
       "    </tr>\n",
       "    <tr>\n",
       "      <th>...</th>\n",
       "      <td>...</td>\n",
       "      <td>...</td>\n",
       "      <td>...</td>\n",
       "    </tr>\n",
       "    <tr>\n",
       "      <th>15611</th>\n",
       "      <td>200000.0</td>\n",
       "      <td>male</td>\n",
       "      <td>married or domestic partnership</td>\n",
       "    </tr>\n",
       "    <tr>\n",
       "      <th>15613</th>\n",
       "      <td>200000.0</td>\n",
       "      <td>male</td>\n",
       "      <td>married or domestic partnership</td>\n",
       "    </tr>\n",
       "    <tr>\n",
       "      <th>15615</th>\n",
       "      <td>10000.0</td>\n",
       "      <td>male</td>\n",
       "      <td>single, never married</td>\n",
       "    </tr>\n",
       "    <tr>\n",
       "      <th>15616</th>\n",
       "      <td>10000.0</td>\n",
       "      <td>male</td>\n",
       "      <td>single, never married</td>\n",
       "    </tr>\n",
       "    <tr>\n",
       "      <th>15619</th>\n",
       "      <td>18000.0</td>\n",
       "      <td>female</td>\n",
       "      <td>single, never married</td>\n",
       "    </tr>\n",
       "  </tbody>\n",
       "</table>\n",
       "<p>2830 rows × 3 columns</p>\n",
       "</div>"
      ],
      "text/plain": [
       "         Income  Gender                    MaritalStatus\n",
       "0       32000.0    male  married or domestic partnership\n",
       "7       40000.0    male  married or domestic partnership\n",
       "10      20000.0    male  married or domestic partnership\n",
       "20     200000.0  female  married or domestic partnership\n",
       "22     100000.0  female            single, never married\n",
       "...         ...     ...                              ...\n",
       "15611  200000.0    male  married or domestic partnership\n",
       "15613  200000.0    male  married or domestic partnership\n",
       "15615   10000.0    male            single, never married\n",
       "15616   10000.0    male            single, never married\n",
       "15619   18000.0  female            single, never married\n",
       "\n",
       "[2830 rows x 3 columns]"
      ]
     },
     "execution_count": 131,
     "metadata": {},
     "output_type": "execute_result"
    }
   ],
   "source": [
    "df_2 = survey_df[[\"Income\", \"Gender\", \"MaritalStatus\"]].dropna()\n",
    "df_2"
   ]
  },
  {
   "cell_type": "code",
   "execution_count": 132,
   "id": "0c6b5af5",
   "metadata": {},
   "outputs": [
    {
     "data": {
      "text/plain": [
       "array(['married or domestic partnership', 'single, never married',\n",
       "       'separated', 'divorced', 'widowed'], dtype=object)"
      ]
     },
     "execution_count": 132,
     "metadata": {},
     "output_type": "execute_result"
    }
   ],
   "source": [
    "df_2.MaritalStatus.unique()"
   ]
  },
  {
   "cell_type": "code",
   "execution_count": 133,
   "id": "1e73a8c9",
   "metadata": {},
   "outputs": [
    {
     "data": {
      "text/plain": [
       "array([[<Axes: title={'center': 'Income'}>]], dtype=object)"
      ]
     },
     "execution_count": 133,
     "metadata": {},
     "output_type": "execute_result"
    },
    {
     "data": {
      "image/png": "[encoded data removed]",
      "text/plain": [
       "<Figure size 640x480 with 1 Axes>"
      ]
     },
     "metadata": {},
     "output_type": "display_data"
    }
   ],
   "source": [
    "df_2.hist()"
   ]
  },
  {
   "cell_type": "markdown",
   "id": "530d52bb",
   "metadata": {},
   "source": [
    "Распределение отличается от нормального, проведем лог-трансформацию "
   ]
  },
  {
   "cell_type": "code",
   "execution_count": 135,
   "id": "e3e88df7",
   "metadata": {},
   "outputs": [
    {
     "data": {
      "text/html": [
       "<div>\n",
       "<style scoped>\n",
       "    .dataframe tbody tr th:only-of-type {\n",
       "        vertical-align: middle;\n",
       "    }\n",
       "\n",
       "    .dataframe tbody tr th {\n",
       "        vertical-align: top;\n",
       "    }\n",
       "\n",
       "    .dataframe thead th {\n",
       "        text-align: right;\n",
       "    }\n",
       "</style>\n",
       "<table border=\"1\" class=\"dataframe\">\n",
       "  <thead>\n",
       "    <tr style=\"text-align: right;\">\n",
       "      <th></th>\n",
       "      <th>Income</th>\n",
       "      <th>Gender</th>\n",
       "      <th>MaritalStatus</th>\n",
       "    </tr>\n",
       "  </thead>\n",
       "  <tbody>\n",
       "    <tr>\n",
       "      <th>0</th>\n",
       "      <td>0.653709</td>\n",
       "      <td>male</td>\n",
       "      <td>married or domestic partnership</td>\n",
       "    </tr>\n",
       "    <tr>\n",
       "      <th>7</th>\n",
       "      <td>0.662952</td>\n",
       "      <td>male</td>\n",
       "      <td>married or domestic partnership</td>\n",
       "    </tr>\n",
       "    <tr>\n",
       "      <th>10</th>\n",
       "      <td>0.633572</td>\n",
       "      <td>male</td>\n",
       "      <td>married or domestic partnership</td>\n",
       "    </tr>\n",
       "    <tr>\n",
       "      <th>20</th>\n",
       "      <td>0.724360</td>\n",
       "      <td>female</td>\n",
       "      <td>married or domestic partnership</td>\n",
       "    </tr>\n",
       "    <tr>\n",
       "      <th>22</th>\n",
       "      <td>0.698970</td>\n",
       "      <td>female</td>\n",
       "      <td>single, never married</td>\n",
       "    </tr>\n",
       "    <tr>\n",
       "      <th>...</th>\n",
       "      <td>...</td>\n",
       "      <td>...</td>\n",
       "      <td>...</td>\n",
       "    </tr>\n",
       "    <tr>\n",
       "      <th>15611</th>\n",
       "      <td>0.724360</td>\n",
       "      <td>male</td>\n",
       "      <td>married or domestic partnership</td>\n",
       "    </tr>\n",
       "    <tr>\n",
       "      <th>15613</th>\n",
       "      <td>0.724360</td>\n",
       "      <td>male</td>\n",
       "      <td>married or domestic partnership</td>\n",
       "    </tr>\n",
       "    <tr>\n",
       "      <th>15615</th>\n",
       "      <td>0.602060</td>\n",
       "      <td>male</td>\n",
       "      <td>single, never married</td>\n",
       "    </tr>\n",
       "    <tr>\n",
       "      <th>15616</th>\n",
       "      <td>0.602060</td>\n",
       "      <td>male</td>\n",
       "      <td>single, never married</td>\n",
       "    </tr>\n",
       "    <tr>\n",
       "      <th>15619</th>\n",
       "      <td>0.628927</td>\n",
       "      <td>female</td>\n",
       "      <td>single, never married</td>\n",
       "    </tr>\n",
       "  </tbody>\n",
       "</table>\n",
       "<p>2830 rows × 3 columns</p>\n",
       "</div>"
      ],
      "text/plain": [
       "         Income  Gender                    MaritalStatus\n",
       "0      0.653709    male  married or domestic partnership\n",
       "7      0.662952    male  married or domestic partnership\n",
       "10     0.633572    male  married or domestic partnership\n",
       "20     0.724360  female  married or domestic partnership\n",
       "22     0.698970  female            single, never married\n",
       "...         ...     ...                              ...\n",
       "15611  0.724360    male  married or domestic partnership\n",
       "15613  0.724360    male  married or domestic partnership\n",
       "15615  0.602060    male            single, never married\n",
       "15616  0.602060    male            single, never married\n",
       "15619  0.628927  female            single, never married\n",
       "\n",
       "[2830 rows x 3 columns]"
      ]
     },
     "execution_count": 135,
     "metadata": {},
     "output_type": "execute_result"
    }
   ],
   "source": [
    "df_2[\"Income\"] = df_2[\"Income\"].apply(np.log10)\n",
    "df_2"
   ]
  },
  {
   "cell_type": "code",
   "execution_count": 136,
   "id": "f0dc3d3f",
   "metadata": {},
   "outputs": [
    {
     "data": {
      "text/plain": [
       "array([[<Axes: title={'center': 'Income'}>]], dtype=object)"
      ]
     },
     "execution_count": 136,
     "metadata": {},
     "output_type": "execute_result"
    },
    {
     "data": {
      "image/png": "[encoded data removed]",
      "text/plain": [
       "<Figure size 640x480 with 1 Axes>"
      ]
     },
     "metadata": {},
     "output_type": "display_data"
    }
   ],
   "source": [
    "df_2.hist()"
   ]
  },
  {
   "cell_type": "code",
   "execution_count": 139,
   "id": "78c4c48c",
   "metadata": {},
   "outputs": [
    {
     "data": {
      "image/png": "[encoded data removed]",
      "text/plain": [
       "<Figure size 640x480 with 1 Axes>"
      ]
     },
     "metadata": {},
     "output_type": "display_data"
    }
   ],
   "source": [
    "sm.ProbPlot(df_2[\"Income\"]).qqplot(line=\"r\") # qq-plot\n",
    "plt.show()"
   ]
  },
  {
   "cell_type": "markdown",
   "id": "11b3db9d",
   "metadata": {},
   "source": [
    "Распределение не соответсвует нормальному на хвостах"
   ]
  },
  {
   "cell_type": "code",
   "execution_count": 142,
   "id": "2db6b53b",
   "metadata": {},
   "outputs": [
    {
     "data": {
      "text/plain": [
       "AndersonResult(statistic=25.59482796984321, critical_values=array([0.575, 0.655, 0.786, 0.917, 1.09 ]), significance_level=array([15. , 10. ,  5. ,  2.5,  1. ]), fit_result=  params: FitParams(loc=0.6606848385353398, scale=0.03341201478292275)\n",
       " success: True\n",
       " message: '`anderson` successfully fit the distribution to the data.')"
      ]
     },
     "execution_count": 142,
     "metadata": {},
     "output_type": "execute_result"
    }
   ],
   "source": [
    "stats.anderson(df_2[\"Income\"])"
   ]
  },
  {
   "cell_type": "markdown",
   "id": "41653569",
   "metadata": {},
   "source": [
    "A-стат > крит. знач. при alpha = 15 % => распределение отличается от нормального "
   ]
  },
  {
   "cell_type": "markdown",
   "id": "5139d7b4",
   "metadata": {},
   "source": [
    "Создадим выборку из 100 рандномных элементов"
   ]
  },
  {
   "cell_type": "code",
   "execution_count": 157,
   "id": "96eae116",
   "metadata": {},
   "outputs": [
    {
     "data": {
      "text/html": [
       "<div>\n",
       "<style scoped>\n",
       "    .dataframe tbody tr th:only-of-type {\n",
       "        vertical-align: middle;\n",
       "    }\n",
       "\n",
       "    .dataframe tbody tr th {\n",
       "        vertical-align: top;\n",
       "    }\n",
       "\n",
       "    .dataframe thead th {\n",
       "        text-align: right;\n",
       "    }\n",
       "</style>\n",
       "<table border=\"1\" class=\"dataframe\">\n",
       "  <thead>\n",
       "    <tr style=\"text-align: right;\">\n",
       "      <th></th>\n",
       "      <th>Income</th>\n",
       "      <th>Gender</th>\n",
       "      <th>MaritalStatus</th>\n",
       "    </tr>\n",
       "  </thead>\n",
       "  <tbody>\n",
       "    <tr>\n",
       "      <th>0</th>\n",
       "      <td>0.657445</td>\n",
       "      <td>male</td>\n",
       "      <td>married or domestic partnership</td>\n",
       "    </tr>\n",
       "    <tr>\n",
       "      <th>1</th>\n",
       "      <td>0.675812</td>\n",
       "      <td>male</td>\n",
       "      <td>married or domestic partnership</td>\n",
       "    </tr>\n",
       "    <tr>\n",
       "      <th>2</th>\n",
       "      <td>0.644928</td>\n",
       "      <td>male</td>\n",
       "      <td>single, never married</td>\n",
       "    </tr>\n",
       "    <tr>\n",
       "      <th>3</th>\n",
       "      <td>0.643249</td>\n",
       "      <td>female</td>\n",
       "      <td>single, never married</td>\n",
       "    </tr>\n",
       "    <tr>\n",
       "      <th>4</th>\n",
       "      <td>0.662952</td>\n",
       "      <td>male</td>\n",
       "      <td>married or domestic partnership</td>\n",
       "    </tr>\n",
       "    <tr>\n",
       "      <th>...</th>\n",
       "      <td>...</td>\n",
       "      <td>...</td>\n",
       "      <td>...</td>\n",
       "    </tr>\n",
       "    <tr>\n",
       "      <th>95</th>\n",
       "      <td>0.657445</td>\n",
       "      <td>male</td>\n",
       "      <td>married or domestic partnership</td>\n",
       "    </tr>\n",
       "    <tr>\n",
       "      <th>96</th>\n",
       "      <td>0.667753</td>\n",
       "      <td>male</td>\n",
       "      <td>married or domestic partnership</td>\n",
       "    </tr>\n",
       "    <tr>\n",
       "      <th>97</th>\n",
       "      <td>0.682408</td>\n",
       "      <td>male</td>\n",
       "      <td>married or domestic partnership</td>\n",
       "    </tr>\n",
       "    <tr>\n",
       "      <th>98</th>\n",
       "      <td>0.685303</td>\n",
       "      <td>male</td>\n",
       "      <td>married or domestic partnership</td>\n",
       "    </tr>\n",
       "    <tr>\n",
       "      <th>99</th>\n",
       "      <td>0.677645</td>\n",
       "      <td>male</td>\n",
       "      <td>married or domestic partnership</td>\n",
       "    </tr>\n",
       "  </tbody>\n",
       "</table>\n",
       "<p>100 rows × 3 columns</p>\n",
       "</div>"
      ],
      "text/plain": [
       "      Income  Gender                    MaritalStatus\n",
       "0   0.657445    male  married or domestic partnership\n",
       "1   0.675812    male  married or domestic partnership\n",
       "2   0.644928    male            single, never married\n",
       "3   0.643249  female            single, never married\n",
       "4   0.662952    male  married or domestic partnership\n",
       "..       ...     ...                              ...\n",
       "95  0.657445    male  married or domestic partnership\n",
       "96  0.667753    male  married or domestic partnership\n",
       "97  0.682408    male  married or domestic partnership\n",
       "98  0.685303    male  married or domestic partnership\n",
       "99  0.677645    male  married or domestic partnership\n",
       "\n",
       "[100 rows x 3 columns]"
      ]
     },
     "execution_count": 157,
     "metadata": {},
     "output_type": "execute_result"
    }
   ],
   "source": [
    "df_2 = df_2.sample(n=100, random_state=99824 , ignore_index=True)\n",
    "df_2"
   ]
  },
  {
   "cell_type": "code",
   "execution_count": 158,
   "id": "e806638a",
   "metadata": {},
   "outputs": [
    {
     "data": {
      "text/plain": [
       "array([[<Axes: title={'center': 'Income'}>]], dtype=object)"
      ]
     },
     "execution_count": 158,
     "metadata": {},
     "output_type": "execute_result"
    },
    {
     "data": {
      "image/png": "[encoded data removed]",
      "text/plain": [
       "<Figure size 640x480 with 1 Axes>"
      ]
     },
     "metadata": {},
     "output_type": "display_data"
    }
   ],
   "source": [
    "df_2.hist()"
   ]
  },
  {
   "cell_type": "code",
   "execution_count": 159,
   "id": "e14e5ae9",
   "metadata": {},
   "outputs": [
    {
     "data": {
      "text/plain": [
       "ShapiroResult(statistic=0.9695354700088501, pvalue=0.020369062200188637)"
      ]
     },
     "execution_count": 159,
     "metadata": {},
     "output_type": "execute_result"
    }
   ],
   "source": [
    "stats.shapiro(df_2[\"Income\"])"
   ]
  },
  {
   "cell_type": "markdown",
   "id": "3a1e6efc",
   "metadata": {},
   "source": [
    "p-val < 0.05 => распреление отличается от нормального, но оно близко к нормальному, поэтому будет считать, что Income распределены нормально"
   ]
  },
  {
   "cell_type": "code",
   "execution_count": 170,
   "id": "3ac87b97",
   "metadata": {},
   "outputs": [
    {
     "data": {
      "text/html": [
       "<div>\n",
       "<style scoped>\n",
       "    .dataframe tbody tr th:only-of-type {\n",
       "        vertical-align: middle;\n",
       "    }\n",
       "\n",
       "    .dataframe tbody tr th {\n",
       "        vertical-align: top;\n",
       "    }\n",
       "\n",
       "    .dataframe thead th {\n",
       "        text-align: right;\n",
       "    }\n",
       "</style>\n",
       "<table border=\"1\" class=\"dataframe\">\n",
       "  <thead>\n",
       "    <tr style=\"text-align: right;\">\n",
       "      <th></th>\n",
       "      <th>df</th>\n",
       "      <th>sum_sq</th>\n",
       "      <th>mean_sq</th>\n",
       "      <th>F</th>\n",
       "      <th>PR(&gt;F)</th>\n",
       "    </tr>\n",
       "  </thead>\n",
       "  <tbody>\n",
       "    <tr>\n",
       "      <th>C(Gender)</th>\n",
       "      <td>1.0</td>\n",
       "      <td>0.000172</td>\n",
       "      <td>0.000172</td>\n",
       "      <td>0.200057</td>\n",
       "      <td>0.655693</td>\n",
       "    </tr>\n",
       "    <tr>\n",
       "      <th>C(MaritalStatus)</th>\n",
       "      <td>2.0</td>\n",
       "      <td>0.002927</td>\n",
       "      <td>0.001464</td>\n",
       "      <td>1.706392</td>\n",
       "      <td>0.187036</td>\n",
       "    </tr>\n",
       "    <tr>\n",
       "      <th>C(Gender):C(MaritalStatus)</th>\n",
       "      <td>2.0</td>\n",
       "      <td>0.003317</td>\n",
       "      <td>0.001659</td>\n",
       "      <td>1.933652</td>\n",
       "      <td>0.150269</td>\n",
       "    </tr>\n",
       "    <tr>\n",
       "      <th>Residual</th>\n",
       "      <td>95.0</td>\n",
       "      <td>0.081489</td>\n",
       "      <td>0.000858</td>\n",
       "      <td>NaN</td>\n",
       "      <td>NaN</td>\n",
       "    </tr>\n",
       "  </tbody>\n",
       "</table>\n",
       "</div>"
      ],
      "text/plain": [
       "                              df    sum_sq   mean_sq         F    PR(>F)\n",
       "C(Gender)                    1.0  0.000172  0.000172  0.200057  0.655693\n",
       "C(MaritalStatus)             2.0  0.002927  0.001464  1.706392  0.187036\n",
       "C(Gender):C(MaritalStatus)   2.0  0.003317  0.001659  1.933652  0.150269\n",
       "Residual                    95.0  0.081489  0.000858       NaN       NaN"
      ]
     },
     "execution_count": 170,
     "metadata": {},
     "output_type": "execute_result"
    }
   ],
   "source": [
    "model = smf.ols(\"Income ~ C(Gender) * C(MaritalStatus)\", df_2)  # строим лин-регресию и обучаем ее\n",
    "model = model.fit() # обучаем её\n",
    "sm.stats.anova_lm(model, typ=1)\n",
    "\n"
   ]
  },
  {
   "cell_type": "markdown",
   "id": "f21561ac",
   "metadata": {},
   "source": [
    "у всех p-val > 0.05 => принимается основная гопотеза о равенстве средних каждой подвыбоки => брачный статус и пол никак не влияют на заработную плату"
   ]
  },
  {
   "cell_type": "code",
   "execution_count": null,
   "id": "893a8175",
   "metadata": {},
   "outputs": [],
   "source": []
  }
 ],
 "metadata": {
  "kernelspec": {
   "display_name": "Python 3 (ipykernel)",
   "language": "python",
   "name": "python3"
  },
  "language_info": {
   "codemirror_mode": {
    "name": "ipython",
    "version": 3
   },
   "file_extension": ".py",
   "mimetype": "text/x-python",
   "name": "python",
   "nbconvert_exporter": "python",
   "pygments_lexer": "ipython3",
   "version": "3.10.9"
  }
 },
 "nbformat": 4,
 "nbformat_minor": 5
}
